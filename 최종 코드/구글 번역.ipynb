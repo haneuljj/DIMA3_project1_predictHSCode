{
 "cells": [
  {
   "cell_type": "code",
   "execution_count": 1,
   "id": "bd4f598e-f2f7-43c2-b80e-a7e7b25f4b21",
   "metadata": {},
   "outputs": [
    {
     "name": "stdout",
     "output_type": "stream",
     "text": [
      "<class 'pandas.core.frame.DataFrame'>\n",
      "RangeIndex: 4793 entries, 0 to 4792\n",
      "Data columns (total 2 columns):\n",
      " #   Column        Non-Null Count  Dtype \n",
      "---  ------        --------------  ----- \n",
      " 0   Unnamed: 0    4793 non-null   int64 \n",
      " 1   punc_product  4793 non-null   object\n",
      "dtypes: int64(1), object(1)\n",
      "memory usage: 75.0+ KB\n"
     ]
    },
    {
     "data": {
      "text/html": [
       "<div>\n",
       "<style scoped>\n",
       "    .dataframe tbody tr th:only-of-type {\n",
       "        vertical-align: middle;\n",
       "    }\n",
       "\n",
       "    .dataframe tbody tr th {\n",
       "        vertical-align: top;\n",
       "    }\n",
       "\n",
       "    .dataframe thead th {\n",
       "        text-align: right;\n",
       "    }\n",
       "</style>\n",
       "<table border=\"1\" class=\"dataframe\">\n",
       "  <thead>\n",
       "    <tr style=\"text-align: right;\">\n",
       "      <th></th>\n",
       "      <th>Unnamed: 0</th>\n",
       "      <th>punc_product</th>\n",
       "    </tr>\n",
       "  </thead>\n",
       "  <tbody>\n",
       "    <tr>\n",
       "      <th>0</th>\n",
       "      <td>0</td>\n",
       "      <td>Znie P100</td>\n",
       "    </tr>\n",
       "    <tr>\n",
       "      <th>1</th>\n",
       "      <td>1</td>\n",
       "      <td>ACTIVE OPTICAL CABLE WITH TRANSCEIVER AOCQQ100...</td>\n",
       "    </tr>\n",
       "    <tr>\n",
       "      <th>2</th>\n",
       "      <td>2</td>\n",
       "      <td>ACTIVE OPTICAL CABLE WITH TRANSCEIVER AOCSS25G...</td>\n",
       "    </tr>\n",
       "    <tr>\n",
       "      <th>3</th>\n",
       "      <td>3</td>\n",
       "      <td>Gateway Manager Support SystemGMSS  459A00756</td>\n",
       "    </tr>\n",
       "    <tr>\n",
       "      <th>4</th>\n",
       "      <td>4</td>\n",
       "      <td>CONNECTOR TA34P58SPBK</td>\n",
       "    </tr>\n",
       "  </tbody>\n",
       "</table>\n",
       "</div>"
      ],
      "text/plain": [
       "   Unnamed: 0                                       punc_product\n",
       "0           0                                          Znie P100\n",
       "1           1  ACTIVE OPTICAL CABLE WITH TRANSCEIVER AOCQQ100...\n",
       "2           2  ACTIVE OPTICAL CABLE WITH TRANSCEIVER AOCSS25G...\n",
       "3           3      Gateway Manager Support SystemGMSS  459A00756\n",
       "4           4                              CONNECTOR TA34P58SPBK"
      ]
     },
     "execution_count": 1,
     "metadata": {},
     "output_type": "execute_result"
    }
   ],
   "source": [
    "import pandas as pd\n",
    "\n",
    "df = pd.read_excel('./punc_product.xlsx')\n",
    "df.info()%%!\n",
    "df.head()"
   ]
  },
  {
   "cell_type": "code",
   "execution_count": 2,
   "id": "4d904ffa-8d83-4436-9a08-50538b2cfea7",
   "metadata": {},
   "outputs": [
    {
     "data": {
      "text/plain": [
       "0                                            Znie P100\n",
       "1    ACTIVE OPTICAL CABLE WITH TRANSCEIVER AOCQQ100...\n",
       "2    ACTIVE OPTICAL CABLE WITH TRANSCEIVER AOCSS25G...\n",
       "3        Gateway Manager Support SystemGMSS  459A00756\n",
       "4                                CONNECTOR TA34P58SPBK\n",
       "Name: punc_product, dtype: object"
      ]
     },
     "execution_count": 2,
     "metadata": {},
     "output_type": "execute_result"
    }
   ],
   "source": [
    "df['punc_product'].head()"
   ]
  },
  {
   "cell_type": "code",
   "execution_count": 2,
   "id": "5ffa6b06-2418-4b79-b1cb-b1b1675e762f",
   "metadata": {},
   "outputs": [
    {
     "name": "stdout",
     "output_type": "stream",
     "text": [
      "4501 4502 4503 4504 4505 4506 4507 4508 4509 4510 4511 4512 4513 4514 4515 4516 4517 4518 4519 4520 4521 4522 4523 4524 4525 4526 4527 에러 발생\n",
      "4528 4529 4530 4531 4532 4533 4534 4535 4536 4537 4538 4539 4540 4541 4542 4543 4544 4545 4546 4547 4548 4549 4550 4551 4552 4553 4554 4555 4556 4557 4558 4559 에러 발생\n",
      "4560 4561 4562 4563 4564 4565 4566 4567 4568 4569 4570 4571 4572 4573 4574 4575 4576 4577 4578 4579 4580 4581 4582 4583 4584 4585 4586 4587 4588 4589 4590 4591 4592 4593 4594 4595 4596 4597 4598 4599 4600 4601 4602 4603 4604 4605 4606 4607 4608 4609 4610 4611 4612 4613 4614 4615 4616 4617 4618 4619 4620 4621 4622 4623 4624 4625 4626 4627 4628 4629 4630 4631 4632 4633 4634 4635 4636 4637 4638 4639 4640 4641 4642 4643 4644 4645 4646 4647 4648 4649 4650 4651 4652 4653 4654 4655 4656 4657 4658 4659 4660 4661 4662 4663 4664 4665 4666 4667 4668 4669 4670 4671 4672 4673 4674 4675 4676 4677 4678 4679 4680 4681 4682 4683 4684 4685 4686 4687 4688 4689 4690 4691 4692 4693 4694 4695 4696 4697 4698 4699 4700 4701 4702 4703 4704 4705 4706 4707 4708 4709 4710 4711 4712 4713 4714 4715 4716 4717 4718 4719 4720 4721 4722 4723 4724 4725 4726 4727 4728 4729 4730 4731 4732 4733 4734 4735 4736 4737 4738 4739 4740 4741 4742 4743 4744 4745 4746 4747 4748 4749 4750 4751 4752 4753 4754 4755 4756 4757 4758 4759 4760 4761 4762 4763 4764 4765 4766 4767 4768 4769 4770 4771 4772 4773 4774 4775 4776 에러 발생\n",
      "4777 4778 4779 4780 4781 4782 4783 4784 4785 4786 4787 4788 4789 4790 4791 4792 4793 "
     ]
    }
   ],
   "source": [
    "import googletrans\n",
    "from googletrans import Translator\n",
    "import time\n",
    "\n",
    "translated_product = []\n",
    "\n",
    "cnt = 4500\n",
    "\n",
    "file = open('trans_text2_product.txt', 'a', encoding='utf-8')\n",
    "\n",
    "while(cnt != len(df['punc_product'])):\n",
    "    try:\n",
    "        for i in range(cnt, len(df['punc_product'])):\n",
    "            text = df['punc_product'].iloc[i]\n",
    "            translator = Translator()\n",
    "            trans_text = translator.translate(text, src=translator.detect(text).lang, dest='en').text\n",
    "            \n",
    "            file.write(trans_text+'\\n')\n",
    "            file.write(('-'*50)+'\\n')\n",
    "            \n",
    "            translated_product.append(trans_text)\n",
    "            time.sleep(3)\n",
    "            cnt += 1\n",
    "            print(cnt, end=' ')\n",
    "    except:\n",
    "        print('에러 발생')\n",
    "        time.sleep(50)\n",
    "\n",
    "file.close()\n",
    "    \n",
    "# print(translated[0])"
   ]
  },
  {
   "cell_type": "code",
   "execution_count": 3,
   "id": "b6dbd666-a318-4557-bcfb-ca6d42daca46",
   "metadata": {},
   "outputs": [],
   "source": [
    "import pandas as pd\n",
    "\n",
    "data = {'translated_product_4500_end': translated_product}\n",
    "df = pd.DataFrame(data)"
   ]
  },
  {
   "cell_type": "code",
   "execution_count": 5,
   "id": "76a4d5cf-0d8a-46ee-97c8-fa9281929c0a",
   "metadata": {},
   "outputs": [
    {
     "data": {
      "text/html": [
       "<div>\n",
       "<style scoped>\n",
       "    .dataframe tbody tr th:only-of-type {\n",
       "        vertical-align: middle;\n",
       "    }\n",
       "\n",
       "    .dataframe tbody tr th {\n",
       "        vertical-align: top;\n",
       "    }\n",
       "\n",
       "    .dataframe thead th {\n",
       "        text-align: right;\n",
       "    }\n",
       "</style>\n",
       "<table border=\"1\" class=\"dataframe\">\n",
       "  <thead>\n",
       "    <tr style=\"text-align: right;\">\n",
       "      <th></th>\n",
       "      <th>translated_product_290</th>\n",
       "    </tr>\n",
       "  </thead>\n",
       "  <tbody>\n",
       "    <tr>\n",
       "      <th>188</th>\n",
       "      <td>RS-232C INTERFACE BLOCK ; FX2N-232IF ;</td>\n",
       "    </tr>\n",
       "    <tr>\n",
       "      <th>189</th>\n",
       "      <td>FX3U CC-Link Interface Special Block ; FX3U-64...</td>\n",
       "    </tr>\n",
       "    <tr>\n",
       "      <th>190</th>\n",
       "      <td>BRACKET-CAMERA-CHASSIS ; FC09-007469A ; ADC12</td>\n",
       "    </tr>\n",
       "    <tr>\n",
       "      <th>191</th>\n",
       "      <td>Embedded Die Substrate (EDS);Kandaon (Qet5100m...</td>\n",
       "    </tr>\n",
       "    <tr>\n",
       "      <th>192</th>\n",
       "      <td>MCOs Package Substrate ; FCBGA(Flip Chip Ball ...</td>\n",
       "    </tr>\n",
       "  </tbody>\n",
       "</table>\n",
       "</div>"
      ],
      "text/plain": [
       "                                translated_product_290\n",
       "188             RS-232C INTERFACE BLOCK ; FX2N-232IF ;\n",
       "189  FX3U CC-Link Interface Special Block ; FX3U-64...\n",
       "190      BRACKET-CAMERA-CHASSIS ; FC09-007469A ; ADC12\n",
       "191  Embedded Die Substrate (EDS);Kandaon (Qet5100m...\n",
       "192  MCOs Package Substrate ; FCBGA(Flip Chip Ball ..."
      ]
     },
     "execution_count": 5,
     "metadata": {},
     "output_type": "execute_result"
    }
   ],
   "source": [
    "df.tail()"
   ]
  },
  {
   "cell_type": "code",
   "execution_count": 15,
   "id": "3caafff5-97f2-48f0-b777-e825af03e0b8",
   "metadata": {},
   "outputs": [
    {
     "name": "stdout",
     "output_type": "stream",
     "text": [
      "<class 'pandas.core.frame.DataFrame'>\n",
      "RangeIndex: 612 entries, 0 to 611\n",
      "Data columns (total 1 columns):\n",
      " #   Column                       Non-Null Count  Dtype \n",
      "---  ------                       --------------  ----- \n",
      " 0   translated_product_506_1119  612 non-null    object\n",
      "dtypes: object(1)\n",
      "memory usage: 4.9+ KB\n"
     ]
    }
   ],
   "source": [
    "df.info()"
   ]
  },
  {
   "cell_type": "code",
   "execution_count": 4,
   "id": "251fad6d-64be-472a-8c3b-4243c56219e6",
   "metadata": {},
   "outputs": [],
   "source": [
    "import os\n",
    "os.getcwd()\n",
    "os.chdir('./dataset')"
   ]
  },
  {
   "cell_type": "code",
   "execution_count": 5,
   "id": "4b617386-6328-406e-b189-cb01fe50031c",
   "metadata": {},
   "outputs": [],
   "source": [
    "df.to_excel('85product_trans_4500_end.xlsx')"
   ]
  }
 ],
 "metadata": {
  "kernelspec": {
   "display_name": "Python 3 (ipykernel)",
   "language": "python",
   "name": "python3"
  },
  "language_info": {
   "codemirror_mode": {
    "name": "ipython",
    "version": 3
   },
   "file_extension": ".py",
   "mimetype": "text/x-python",
   "name": "python",
   "nbconvert_exporter": "python",
   "pygments_lexer": "ipython3",
   "version": "3.11.5"
  }
 },
 "nbformat": 4,
 "nbformat_minor": 5
}
